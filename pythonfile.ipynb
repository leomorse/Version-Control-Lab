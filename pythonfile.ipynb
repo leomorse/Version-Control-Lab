{
 "cells": [
  {
   "cell_type": "code",
   "execution_count": null,
   "id": "9f002199-429c-4926-a9fd-1f1d378b687f",
   "metadata": {},
   "outputs": [],
   "source": [
    "name = input(\"What's your name?: \")\n",
    "other_input = input(\"random message\")\n",
    "print(f'{name} {other_input}')"
   ]
  }
 ],
 "metadata": {
  "kernelspec": {
   "display_name": "Python 3 (ipykernel)",
   "language": "python",
   "name": "python3"
  },
  "language_info": {
   "codemirror_mode": {
    "name": "ipython",
    "version": 3
   },
   "file_extension": ".py",
   "mimetype": "text/x-python",
   "name": "python",
   "nbconvert_exporter": "python",
   "pygments_lexer": "ipython3",
   "version": "3.11.5"
  }
 },
 "nbformat": 4,
 "nbformat_minor": 5
}
